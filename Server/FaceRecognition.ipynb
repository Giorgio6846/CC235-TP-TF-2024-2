{
 "cells": [
  {
   "cell_type": "code",
   "execution_count": null,
   "metadata": {},
   "outputs": [],
   "source": [
    "import matplotlib.pyplot as plt\n",
    "from skimage import data, filters, exposure, feature\n",
    "from skimage.io import imread\n",
    "from skimage.color import rgb2gray\n",
    "\n",
    "import numpy as np\n",
    "import cv2"
   ]
  },
  {
   "cell_type": "markdown",
   "metadata": {},
   "source": [
    "# Lectura de archivos"
   ]
  },
  {
   "cell_type": "code",
   "execution_count": null,
   "metadata": {},
   "outputs": [],
   "source": [
    "\n",
    "colorFile = \"./data/FaceImage20241111210213.jpg\"\n",
    "depthFile = \"./data/DepthImage20241111210213.png\"\n",
    "\n",
    "colorImage = imread(colorFile)\n",
    "\n",
    "depthImage = imread(depthFile)\n",
    "depthImageNorm = depthImage[:, :, :3]\n",
    "depthGray = rgb2gray(depthImageNorm)"
   ]
  },
  {
   "cell_type": "markdown",
   "metadata": {},
   "source": [
    "# Uso de Otsu \n",
    "#### Separacion entre la cara y el fondo mediante la camara de profundidad"
   ]
  },
  {
   "cell_type": "code",
   "execution_count": null,
   "metadata": {},
   "outputs": [],
   "source": [
    "value = filters.threshold_otsu(depthGray)\n",
    "\n",
    "binary = depthGray > value\n",
    "\n",
    "faceOnly = np.zeros_like(colorImage)\n",
    "faceOnly[binary] = colorImage[binary]"
   ]
  },
  {
   "cell_type": "markdown",
   "metadata": {},
   "source": [
    "# Muestra de imagen actual"
   ]
  },
  {
   "cell_type": "code",
   "execution_count": null,
   "metadata": {},
   "outputs": [],
   "source": [
    "fig, axes = plt.subplots(ncols=3, figsize=(8, 2.5))\n",
    "ax = axes.ravel()\n",
    "ax[0] = plt.subplot(1, 3, 1)\n",
    "ax[1] = plt.subplot(1, 3, 2)\n",
    "ax[2] = plt.subplot(1, 3, 3, sharex=ax[0], sharey=ax[0])\n",
    "\n",
    "ax[0].imshow(colorImage)\n",
    "ax[0].set_title(\"Original\")\n",
    "ax[0].axis(\"off\")\n",
    "\n",
    "ax[1].hist(depthGray.ravel(), bins=256)\n",
    "ax[1].set_title(\"Histogram\")\n",
    "ax[1].axvline(value, color=\"r\")\n",
    "\n",
    "ax[2].imshow(faceOnly)\n",
    "ax[2].set_title(\"Thresholded\")\n",
    "ax[2].axis(\"off\")\n",
    "\n",
    "plt.show()"
   ]
  },
  {
   "cell_type": "code",
   "execution_count": null,
   "metadata": {},
   "outputs": [],
   "source": [
    "faceOnly1 = faceOnly\n",
    "faceOnlyGray = rgb2gray(faceOnly)\n",
    "\n",
    "depthOnly = depthGray\n",
    "\n",
    "sumFace = faceOnlyGray + depthOnly\n",
    "\n",
    "depthCanny = feature.canny(faceOnlyGray,sigma=3)\n",
    "faceCanny = feature.canny(depthOnly)\n",
    "\n",
    "sumCanny = feature.canny(sumFace)\n",
    "\n",
    "fig = plt.figure(figsize=(10, 2))\n",
    "\n",
    "fig.add_subplot(1, 4, 1)\n",
    "plt.imshow(depthCanny)\n",
    "\n",
    "fig.add_subplot(1, 4, 2)\n",
    "plt.imshow(faceCanny)\n",
    "\n",
    "fig.add_subplot(1, 4, 3)\n",
    "plt.imshow(sumCanny)\n",
    "\n",
    "fig.add_subplot(1, 4, 4)\n",
    "plt.imshow(sumFace)"
   ]
  },
  {
   "cell_type": "code",
   "execution_count": null,
   "metadata": {},
   "outputs": [],
   "source": []
  }
 ],
 "metadata": {
  "kernelspec": {
   "display_name": "Python 3",
   "language": "python",
   "name": "python3"
  },
  "language_info": {
   "codemirror_mode": {
    "name": "ipython",
    "version": 3
   },
   "file_extension": ".py",
   "mimetype": "text/x-python",
   "name": "python",
   "nbconvert_exporter": "python",
   "pygments_lexer": "ipython3",
   "version": "3.11.9"
  }
 },
 "nbformat": 4,
 "nbformat_minor": 2
}
