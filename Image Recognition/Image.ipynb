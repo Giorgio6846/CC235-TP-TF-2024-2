{
 "cells": [
  {
   "cell_type": "code",
   "execution_count": 1,
   "metadata": {},
   "outputs": [
    {
     "ename": "ModuleNotFoundError",
     "evalue": "No module named 'skimage'",
     "output_type": "error",
     "traceback": [
      "\u001b[0;31m---------------------------------------------------------------------------\u001b[0m",
      "\u001b[0;31mModuleNotFoundError\u001b[0m                       Traceback (most recent call last)",
      "Cell \u001b[0;32mIn[1], line 1\u001b[0m\n\u001b[0;32m----> 1\u001b[0m \u001b[38;5;28;01mimport\u001b[39;00m \u001b[38;5;21;01mskimage\u001b[39;00m \u001b[38;5;28;01mas\u001b[39;00m \u001b[38;5;21;01mski\u001b[39;00m\n\u001b[1;32m      2\u001b[0m \u001b[38;5;28;01mimport\u001b[39;00m \u001b[38;5;21;01mnumpy\u001b[39;00m \u001b[38;5;28;01mas\u001b[39;00m \u001b[38;5;21;01mnp\u001b[39;00m\n\u001b[1;32m      3\u001b[0m \u001b[38;5;28;01mimport\u001b[39;00m \u001b[38;5;21;01mmatplotlib\u001b[39;00m\u001b[38;5;21;01m.\u001b[39;00m\u001b[38;5;21;01mpyplot\u001b[39;00m \u001b[38;5;28;01mas\u001b[39;00m \u001b[38;5;21;01mplt\u001b[39;00m\n",
      "\u001b[0;31mModuleNotFoundError\u001b[0m: No module named 'skimage'"
     ]
    }
   ],
   "source": [
    "import skimage as ski\n",
    "import numpy as np\n",
    "import matplotlib.pyplot as plt\n",
    "from PIL import Image\n",
    "import imageio.v3 as iio"
   ]
  },
  {
   "cell_type": "code",
   "execution_count": 2,
   "metadata": {},
   "outputs": [],
   "source": [
    "faceLink = \"../Server-Python/data/FaceImage.jpg\"\n",
    "depthLink = \"../Server-Python/data/DepthImage.png\""
   ]
  },
  {
   "cell_type": "markdown",
   "metadata": {},
   "source": [
    "# Carga de imagen "
   ]
  },
  {
   "cell_type": "code",
   "execution_count": 3,
   "metadata": {},
   "outputs": [],
   "source": [
    "faceImage = ski.io.imread(faceLink)\n",
    "depthImage = Image.open(depthLink)\n",
    "depthArray = np.array(depthImage)"
   ]
  },
  {
   "cell_type": "markdown",
   "metadata": {},
   "source": [
    "# Test 1"
   ]
  },
  {
   "cell_type": "code",
   "execution_count": null,
   "metadata": {},
   "outputs": [],
   "source": [
    "print(faceImage.shape)\n",
    "print(depthArray.shape)"
   ]
  },
  {
   "cell_type": "code",
   "execution_count": null,
   "metadata": {},
   "outputs": [],
   "source": [
    "img1_compare = [\n",
    "    faceImage,\n",
    "    depthArray\n",
    "]\n",
    "\n",
    "for image in img1_compare:\n",
    "    plt.imshow(image, cmap=\"gray\")\n",
    "    plt.show()"
   ]
  },
  {
   "cell_type": "code",
   "execution_count": null,
   "metadata": {},
   "outputs": [],
   "source": [
    "plt.imshow(depthArray)\n",
    "plt.colorbar()"
   ]
  },
  {
   "cell_type": "code",
   "execution_count": null,
   "metadata": {},
   "outputs": [],
   "source": [
    "print(depthArray[256][100])\n",
    "print(depthArray[100][256])\n",
    "depthArray"
   ]
  },
  {
   "cell_type": "code",
   "execution_count": null,
   "metadata": {},
   "outputs": [],
   "source": [
    "plt.figure(figsize=(10, 5))\n",
    "\n",
    "plt.subplot(1, 2, 1)\n",
    "plt.title(\"Imagen RGB\")\n",
    "plt.imshow(faceImage)\n",
    "\n",
    "plt.subplot(1, 2, 2)\n",
    "plt.title(\"Mapa de Profundidad\")\n",
    "plt.imshow(depthArray, cmap=\"gray\")\n",
    "\n",
    "plt.show()"
   ]
  },
  {
   "cell_type": "code",
   "execution_count": 9,
   "metadata": {},
   "outputs": [],
   "source": [
    "depth_normalized = (depthArray - np.min(depthArray)) / (\n",
    "    np.max(depthArray) - np.min(depthArray)\n",
    ")\n",
    "\n",
    "threshold = 0.65"
   ]
  },
  {
   "cell_type": "code",
   "execution_count": 10,
   "metadata": {},
   "outputs": [],
   "source": [
    "near_mask = depth_normalized > threshold\n",
    "\n",
    "highlighted_rgb = np.copy(faceImage)\n",
    "highlighted_rgb[~near_mask] = [0, 0, 0]"
   ]
  },
  {
   "cell_type": "code",
   "execution_count": null,
   "metadata": {},
   "outputs": [],
   "source": [
    "# Visualización de la imagen RGB original, la profundidad y las áreas cercanas\n",
    "plt.figure(figsize=(15, 5))\n",
    "\n",
    "# Imagen original\n",
    "plt.subplot(1, 3, 1)\n",
    "plt.title(\"Imagen RGB Original\")\n",
    "plt.imshow(faceImage)\n",
    "\n",
    "# Mapa de profundidad\n",
    "plt.subplot(1, 3, 2)\n",
    "plt.title(\"Mapa de Profundidad\")\n",
    "plt.imshow(depth_normalized, cmap=\"gray\")\n",
    "\n",
    "# Áreas cercanas resaltadas\n",
    "plt.subplot(1, 3, 3)\n",
    "plt.title(\"Áreas Cercanas (Resaltadas)\")\n",
    "plt.imshow(highlighted_rgb)"
   ]
  }
 ],
 "metadata": {
  "kernelspec": {
   "display_name": "py3.11",
   "language": "python",
   "name": "python3"
  },
  "language_info": {
   "codemirror_mode": {
    "name": "ipython",
    "version": 3
   },
   "file_extension": ".py",
   "mimetype": "text/x-python",
   "name": "python",
   "nbconvert_exporter": "python",
   "pygments_lexer": "ipython3",
   "version": "3.11.10"
  }
 },
 "nbformat": 4,
 "nbformat_minor": 2
}
